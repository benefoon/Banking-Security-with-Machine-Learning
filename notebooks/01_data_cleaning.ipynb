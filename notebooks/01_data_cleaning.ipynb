{
 "cells": [
  {
   "cell_type": "markdown",
   "metadata": {},
   "source": [
    "# Data Cleaning Notebook\n",
    "This notebook cleans and prepares raw transaction data for further analysis."
   ]
  },
  {
   "cell_type": "code",
   "execution_count": null,
   "metadata": {},
   "outputs": [],
   "source": [
    "import pandas as pd\n\n",
    "# Load raw data\n",
    "data = pd.read_csv('../data/raw/transactions_sample.csv')\n",
    "\n",
    "# Drop missing values\n",
    "data.dropna(inplace=True)\n\n",
    "# Convert time to datetime\n",
    "data['time'] = pd.to_datetime(data['time'])\n\n",
    "# Save cleaned data\n",
    "data.to_csv('../data/processed/transactions_cleaned.csv', index=False)\n",
    "print(\"Data cleaning complete. Cleaned file saved to 'data/processed'.\")"
   ]
  }
 ],
 "metadata": {
  "kernelspec": {
   "display_name": "Python 3",
   "language": "python",
   "name": "python3"
  },
  "language_info": {
   "codemirror_mode": {
    "name": "ipython",
    "version": 3
   },
   "file_extension": ".py",
   "mimetype": "text/x-python",
   "name": "python",
   "nbconvert_exporter": "python",
   "pygments_lexer": "ipython3",
   "version": "3.9"
  }
 },
 "nbformat": 4,
 "nbformat_minor": 4
}

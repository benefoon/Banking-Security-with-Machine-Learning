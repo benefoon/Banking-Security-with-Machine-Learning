{
 "cells": [
  {
   "cell_type": "markdown",
   "metadata": {},
   "source": [
    "# Graph Modeling Notebook\n",
    "This notebook builds and analyzes a graph based on financial transactions."
   ]
  },
  {
   "cell_type": "code",
   "execution_count": null,
   "metadata": {},
   "outputs": [],
   "source": [
    "import pandas as pd\n",
    "import networkx as nx\n\n",
    "# Load cleaned data\n",
    "data = pd.read_csv('../data/processed/transactions_cleaned.csv')\n\n",
    "# Build graph\n",
    "G = nx.DiGraph()\n",
    "for _, row in data.iterrows():\n",
    "    G.add_edge(row['sender'], row['receiver'], amount=row['amount'], time=row['time'])\n\n",
    "# Analyze graph\n",
    "centrality = nx.degree_centrality(G)\n",
    "print(\"Top 5 central nodes:\", sorted(centrality.items(), key=lambda x: -x[1])[:5])\n\n",
    "# Save graph analysis results\n",
    "with open('../data/processed/graph_analysis.txt', 'w') as f:\n",
    "    f.write(str(centrality))\n"
   ]
  }
 ],
 "metadata": {
  "kernelspec": {
   "display_name": "Python 3",
   "language": "python",
   "name": "python3"
  },
  "language_info": {
   "codemirror_mode": {
    "name": "ipython",
    "version": 3
   },
   "file_extension": ".py",
   "mimetype": "text/x-python",
   "name": "python",
   "nbconvert_exporter": "python",
   "pygments_lexer": "ipython3",
   "version": "3.9"
  }
 },
 "nbformat": 4,
 "nbformat_minor": 4
}
